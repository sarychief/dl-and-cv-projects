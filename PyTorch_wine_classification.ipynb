{
  "nbformat": 4,
  "nbformat_minor": 0,
  "metadata": {
    "colab": {
      "name": "PyTorch_wine_classification.ipynb",
      "provenance": [],
      "collapsed_sections": [],
      "authorship_tag": "ABX9TyOe1FftdbXlgVkmOdYuvObm",
      "include_colab_link": true
    },
    "kernelspec": {
      "name": "python3",
      "display_name": "Python 3"
    },
    "language_info": {
      "name": "python"
    }
  },
  "cells": [
    {
      "cell_type": "markdown",
      "metadata": {
        "id": "view-in-github",
        "colab_type": "text"
      },
      "source": [
        "<a href=\"https://colab.research.google.com/github/sarychief/projects/blob/main/PyTorch_wine_classification.ipynb\" target=\"_parent\"><img src=\"https://colab.research.google.com/assets/colab-badge.svg\" alt=\"Open In Colab\"/></a>"
      ]
    },
    {
      "cell_type": "code",
      "execution_count": 1,
      "metadata": {
        "colab": {
          "base_uri": "https://localhost:8080/"
        },
        "id": "ewuP-SbFW_e6",
        "outputId": "0aa9fc27-573e-494a-b69a-94f6fb4adb9c"
      },
      "outputs": [
        {
          "output_type": "execute_result",
          "data": {
            "text/plain": [
              "<torch._C.Generator at 0x7f0a7a0704f0>"
            ]
          },
          "metadata": {},
          "execution_count": 1
        }
      ],
      "source": [
        "import torch\n",
        "import torch.nn as nn\n",
        "import numpy as np\n",
        "import matplotlib.pyplot as plt\n",
        "import random\n",
        "\n",
        "# Прописываем сиды, чтобы в дальнейшем воспроизводить рандомную выборку\n",
        "random.seed(0)\n",
        "np.random.seed(0)\n",
        "torch.cuda.manual_seed(0)\n",
        "torch.manual_seed(0)"
      ]
    },
    {
      "cell_type": "code",
      "source": [
        "from sklearn.datasets import load_wine\n",
        "\n",
        "dataset = load_wine()"
      ],
      "metadata": {
        "id": "0HdSi8wlXHWV"
      },
      "execution_count": 2,
      "outputs": []
    },
    {
      "cell_type": "code",
      "source": [
        "dataset.data.shape\n",
        "# 3 класса, 13 атрибутов"
      ],
      "metadata": {
        "colab": {
          "base_uri": "https://localhost:8080/"
        },
        "id": "6jslTa6NagTo",
        "outputId": "eac78b0c-b1c6-44c6-dcb2-4751c41569c7"
      },
      "execution_count": 3,
      "outputs": [
        {
          "output_type": "execute_result",
          "data": {
            "text/plain": [
              "(178, 13)"
            ]
          },
          "metadata": {},
          "execution_count": 3
        }
      ]
    },
    {
      "cell_type": "code",
      "source": [
        "from sklearn.model_selection import train_test_split\n",
        "# Поделим выборку\n",
        "\n",
        "X_train, X_test, y_train, y_test = train_test_split(dataset.data[:, :2],  # берем только две первые колонки\n",
        "                                                    dataset.target,       # номера классов предсказаний\n",
        "                                                    test_size = 0.3,      # процент тестовой выборки\n",
        "                                                    shuffle=True)         # Перемешиваниям во избежания коррелятов последовательностей"
      ],
      "metadata": {
        "id": "G61qAhvWbAAU"
      },
      "execution_count": 4,
      "outputs": []
    },
    {
      "cell_type": "code",
      "source": [
        "X_train = torch.FloatTensor(X_train)\n",
        "X_test = torch.FloatTensor(X_test)\n",
        "y_train = torch.IntTensor(y_train)\n",
        "y_test = torch.IntTensor(y_test)"
      ],
      "metadata": {
        "id": "Wvmeb-5ndWNP"
      },
      "execution_count": 5,
      "outputs": []
    },
    {
      "cell_type": "code",
      "source": [
        "class WineNet(nn.Module):\n",
        "\n",
        "  def __init__(self, n):\n",
        "    super(WineNet, self).__init__()\n",
        "\n",
        "    self.fc1 = nn.Linear(2, n)    \n",
        "    self.act1 = nn.Sigmoid()      \n",
        "\n",
        "    self.fc2 = nn.Linear(n,n)     \n",
        "    self.act2 = nn.Sigmoid()\n",
        "\n",
        "    self.fc3 = nn.Linear(n, 3)    \n",
        "\n",
        "    self.sm = nn.Softmax(dim=1)   \n",
        "\n",
        "\n",
        "  def __forward__(self, x):\n",
        "    \n",
        "    x = self.fc1(x)\n",
        "    x = self.act1(x)\n",
        "\n",
        "    x = self.fc2(x)\n",
        "    x = self.act2(x)\n",
        "\n",
        "    x = self.act3(x)\n",
        "    # softmax мы не включаем потому что нам нужны лоссы, а в этом случае логарифм из кросс-энтропийной потери и экспонента из софтмакса взаимно сократятся\n",
        "    # если бы нам нужны были вероятности, то sm мы бы включили\n",
        "\n",
        "  def inference(self, x): # отедельно инициализируем функцию вычисления вероятности многоклассовой\n",
        "    x = self.forward(x)\n",
        "    x = self.sm(x)\n",
        "    return x"
      ],
      "metadata": {
        "id": "O7TjPwVfd1ID"
      },
      "execution_count": 18,
      "outputs": []
    },
    {
      "cell_type": "code",
      "source": [
        "class WineNet(torch.nn.Module):\n",
        "    def __init__(self, n_hidden_neurons):\n",
        "        super(WineNet, self).__init__()\n",
        "        \n",
        "        self.fc1 = torch.nn.Linear(2, n_hidden_neurons)\n",
        "        self.activ1 = torch.nn.Sigmoid()\n",
        "        #self.fc2 = torch.nn.Linear(n_hidden_neurons, n_hidden_neurons)\n",
        "        #self.activ2 = torch.nn.Sigmoid()\n",
        "        self.fc3 = torch.nn.Linear(n_hidden_neurons, 3)\n",
        "        self.sm = torch.nn.Softmax(dim=1)\n",
        "        \n",
        "    def forward(self, x):\n",
        "        x = self.fc1(x)\n",
        "        x = self.activ1(x)\n",
        "        #x = self.fc2(x)\n",
        "        #x = self.activ2(x)\n",
        "        x = self.fc3(x)\n",
        "        return x\n",
        "\n",
        "    def inference(self, x):\n",
        "        x = self.forward(x)\n",
        "        x = self.sm(x)\n",
        "        return x"
      ],
      "metadata": {
        "id": "HEl2Lq3JdA26"
      },
      "execution_count": 29,
      "outputs": []
    },
    {
      "cell_type": "code",
      "source": [
        "wineNet = WineNet(10)"
      ],
      "metadata": {
        "id": "dvjCKKAgeQpw"
      },
      "execution_count": 30,
      "outputs": []
    },
    {
      "cell_type": "code",
      "source": [
        "loss = torch.nn.CrossEntropyLoss()\n",
        "\n",
        "optimizer = torch.optim.Adam(wineNet.parameters(), \n",
        "                             lr=1.0e-3)"
      ],
      "metadata": {
        "id": "4fE1R56M_vHE"
      },
      "execution_count": 31,
      "outputs": []
    },
    {
      "cell_type": "markdown",
      "source": [
        "До этого было как:\n",
        "1. Брали весь датасет \n",
        "2. Считали по нему лосс-функцию\n",
        "3. Делали градиентный шаг\n",
        "4. Повторяем многократно \n",
        "\n",
        "Но сейчас мы будем производить обучение по частям - с помощью бачей\n",
        "1. Берем бач из 10 наблюдений\n",
        "2. Считаем по нему потерю\n",
        "3. По нему считаем градиентный шаг\n",
        "4. Производим градиентный шаг\n",
        "5. Берем новые наблюдения и заново"
      ],
      "metadata": {
        "id": "KhFY3vyAFod1"
      }
    },
    {
      "cell_type": "code",
      "source": [
        "np.random.permutation(20)\n",
        "# эта функция позволяет исоздать n значений от 0 до n \n",
        "# это нужно для того, чтобы при каждой эпохе выделять разные бачи для обучения модели  "
      ],
      "metadata": {
        "colab": {
          "base_uri": "https://localhost:8080/"
        },
        "id": "ws-hDGLAAVu5",
        "outputId": "2b8e49d6-03ed-41a6-c353-b805ee4dc2a3"
      },
      "execution_count": 26,
      "outputs": [
        {
          "output_type": "execute_result",
          "data": {
            "text/plain": [
              "array([18, 11,  8, 15,  0, 19, 13,  7, 10, 16, 17,  9,  6, 12,  5,  4,  2,\n",
              "        3, 14,  1])"
            ]
          },
          "metadata": {},
          "execution_count": 26
        }
      ]
    },
    {
      "cell_type": "code",
      "source": [
        "batch_size = 20\n",
        "\n",
        "for epoch in range(10000):\n",
        "\n",
        "    order = np.random.permutation(len(X_train))\n",
        "\n",
        "    for start_index in range(0, len(X_train), batch_size):\n",
        "\n",
        "        optimizer.zero_grad()\n",
        "        \n",
        "        batch_indexes = order[start_index:start_index+batch_size]\n",
        "        \n",
        "        x_batch = X_train[batch_indexes]\n",
        "        y_batch = y_train[batch_indexes]\n",
        "        \n",
        "        preds = wineNet.forward(x_batch) \n",
        "        \n",
        "        loss_value = loss(preds, y_batch.type(torch.LongTensor))\n",
        "        loss_value.backward()\n",
        "        \n",
        "        optimizer.step()\n",
        "        \n",
        "    if epoch % 100 == 0:\n",
        "        test_preds = wineNet.forward(X_test)\n",
        "        test_preds = test_preds.argmax(dim=1)\n",
        "        print((test_preds == y_test).float().mean())\n"
      ],
      "metadata": {
        "colab": {
          "base_uri": "https://localhost:8080/"
        },
        "id": "f0zQ6NcgYBwM",
        "outputId": "ec5d807f-afce-4af0-b9aa-39eb777aee02"
      },
      "execution_count": 32,
      "outputs": [
        {
          "output_type": "stream",
          "name": "stdout",
          "text": [
            "tensor(0.2407)\n",
            "tensor(0.4630)\n",
            "tensor(0.7407)\n",
            "tensor(0.7037)\n",
            "tensor(0.7407)\n",
            "tensor(0.7407)\n",
            "tensor(0.7407)\n",
            "tensor(0.7963)\n",
            "tensor(0.7593)\n",
            "tensor(0.7593)\n",
            "tensor(0.7593)\n",
            "tensor(0.8148)\n",
            "tensor(0.8148)\n",
            "tensor(0.8148)\n",
            "tensor(0.8148)\n",
            "tensor(0.8148)\n",
            "tensor(0.7778)\n",
            "tensor(0.8333)\n",
            "tensor(0.8333)\n",
            "tensor(0.8148)\n",
            "tensor(0.8333)\n",
            "tensor(0.8148)\n",
            "tensor(0.8333)\n",
            "tensor(0.8333)\n",
            "tensor(0.8148)\n",
            "tensor(0.8148)\n",
            "tensor(0.7963)\n",
            "tensor(0.8333)\n",
            "tensor(0.8333)\n",
            "tensor(0.8333)\n",
            "tensor(0.7963)\n",
            "tensor(0.8333)\n",
            "tensor(0.8333)\n",
            "tensor(0.8333)\n",
            "tensor(0.8333)\n",
            "tensor(0.8333)\n",
            "tensor(0.8148)\n",
            "tensor(0.8333)\n",
            "tensor(0.8333)\n",
            "tensor(0.8333)\n",
            "tensor(0.7963)\n",
            "tensor(0.8148)\n",
            "tensor(0.8519)\n",
            "tensor(0.8333)\n",
            "tensor(0.8519)\n",
            "tensor(0.8148)\n",
            "tensor(0.8333)\n",
            "tensor(0.8333)\n",
            "tensor(0.8333)\n",
            "tensor(0.8333)\n",
            "tensor(0.8519)\n",
            "tensor(0.8333)\n",
            "tensor(0.8148)\n",
            "tensor(0.8148)\n",
            "tensor(0.8333)\n",
            "tensor(0.8333)\n",
            "tensor(0.8519)\n",
            "tensor(0.8333)\n",
            "tensor(0.8333)\n",
            "tensor(0.8333)\n",
            "tensor(0.8333)\n",
            "tensor(0.8333)\n",
            "tensor(0.8704)\n",
            "tensor(0.8333)\n",
            "tensor(0.8519)\n",
            "tensor(0.8333)\n",
            "tensor(0.8519)\n",
            "tensor(0.8333)\n",
            "tensor(0.8519)\n",
            "tensor(0.8148)\n",
            "tensor(0.8333)\n",
            "tensor(0.8889)\n",
            "tensor(0.8519)\n",
            "tensor(0.8333)\n",
            "tensor(0.8519)\n",
            "tensor(0.8889)\n",
            "tensor(0.8889)\n",
            "tensor(0.8519)\n",
            "tensor(0.8889)\n",
            "tensor(0.8519)\n",
            "tensor(0.8704)\n",
            "tensor(0.8704)\n",
            "tensor(0.8889)\n",
            "tensor(0.8889)\n",
            "tensor(0.8704)\n",
            "tensor(0.8519)\n",
            "tensor(0.8704)\n",
            "tensor(0.8519)\n",
            "tensor(0.8889)\n",
            "tensor(0.8889)\n",
            "tensor(0.8704)\n",
            "tensor(0.8704)\n",
            "tensor(0.8704)\n",
            "tensor(0.8704)\n",
            "tensor(0.8704)\n",
            "tensor(0.8704)\n",
            "tensor(0.8889)\n",
            "tensor(0.8704)\n",
            "tensor(0.8704)\n",
            "tensor(0.8704)\n"
          ]
        }
      ]
    },
    {
      "cell_type": "code",
      "source": [
        "import matplotlib.pyplot as plt\n",
        "%matplotlib inline\n",
        "\n",
        "plt.rcParams['figure.figsize'] = (10, 8)\n",
        "\n",
        "n_classes = 3\n",
        "plot_colors = ['g', 'orange', 'black']\n",
        "plot_step = 0.02\n",
        "\n",
        "x_min, x_max = X_train[:, 0].min() - 1, X_train[:, 0].max() + 1\n",
        "y_min, y_max = X_train[:, 1].min() - 1, X_train[:, 1].max() + 1\n",
        "\n",
        "xx, yy =  torch.meshgrid(torch.arange(x_min, x_max, plot_step),\n",
        "                         torch.arange(y_min, y_max, plot_step))\n",
        "\n",
        "preds = wineNet.inference(\n",
        "    torch.cat([xx.reshape(-1, 1), yy.reshape(-1, 1)], dim=1))\n",
        "\n",
        "preds_class = preds.data.numpy().argmax(axis=1)\n",
        "preds_class = preds_class.reshape(xx.shape)\n",
        "plt.contourf(xx, yy, preds_class, cmap='Accent')\n",
        "\n",
        "for i, color in zip(range(n_classes), plot_colors):\n",
        "    indexes = np.where(y_train == i)\n",
        "    plt.scatter(X_train[indexes, 0], \n",
        "                X_train[indexes, 1], \n",
        "                c=color, \n",
        "                label=dataset.target_names[i],\n",
        "                cmap='Accent')\n",
        "    plt.xlabel(dataset.feature_names[0])\n",
        "    plt.ylabel(dataset.feature_names[1])\n",
        "    plt.legend()"
      ],
      "metadata": {
        "colab": {
          "base_uri": "https://localhost:8080/",
          "height": 497
        },
        "id": "OV1t768bEHzb",
        "outputId": "eaf2a7b1-80b0-41d5-d46d-2de863d75a40"
      },
      "execution_count": 33,
      "outputs": [
        {
          "output_type": "display_data",
          "data": {
            "text/plain": [
              "<Figure size 720x576 with 1 Axes>"
            ],
            "image/png": "[encoded data removed]"
          },
          "metadata": {
            "needs_background": "light"
          }
        }
      ]
    },
    {
      "cell_type": "code",
      "source": [
        ""
      ],
      "metadata": {
        "id": "hL6XrwotfQiQ"
      },
      "execution_count": null,
      "outputs": []
    }
  ]
}